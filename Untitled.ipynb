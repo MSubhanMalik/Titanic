{
 "cells": [
  {
   "cell_type": "code",
   "execution_count": 1,
   "id": "6392503c-7a59-4ada-b123-b97c5d560b71",
   "metadata": {},
   "outputs": [
    {
     "ename": "NameError",
     "evalue": "name 'process_data' is not defined",
     "output_type": "error",
     "traceback": [
      "\u001b[1;31m---------------------------------------------------------------------------\u001b[0m",
      "\u001b[1;31mNameError\u001b[0m                                 Traceback (most recent call last)",
      "Cell \u001b[1;32mIn[1], line 1\u001b[0m\n\u001b[1;32m----> 1\u001b[0m test \u001b[38;5;241m=\u001b[39m \u001b[43mprocess_data\u001b[49m(test)\n\u001b[0;32m      2\u001b[0m X_train, Y_train, X_test \u001b[38;5;241m=\u001b[39m create_splits(test, \u001b[38;5;124m\"\u001b[39m\u001b[38;5;124mAge\u001b[39m\u001b[38;5;124m\"\u001b[39m)\n\u001b[0;32m      3\u001b[0m test \u001b[38;5;241m=\u001b[39m impute_age(test, \u001b[38;5;124m\"\u001b[39m\u001b[38;5;124mAge\u001b[39m\u001b[38;5;124m\"\u001b[39m, X_test, model)\n",
      "\u001b[1;31mNameError\u001b[0m: name 'process_data' is not defined"
     ]
    }
   ],
   "source": [
    "test = process_data(test)\n",
    "X_train, Y_train, X_test = create_splits(test, \"Age\")\n",
    "test = impute_age(test, \"Age\", X_test, model)"
   ]
  },
  {
   "cell_type": "code",
   "execution_count": null,
   "id": "37adc8cb-7e0c-4f1e-b053-dba2bfde025a",
   "metadata": {},
   "outputs": [],
   "source": [
    "test['Fare Per Person'] = test[\"Fare\"]/(test[\"SibSp\"]+test['Parch'] + 1)\n",
    "test = transform_log(test, 'Fare Per Person')\n",
    "test['Total People'] = test[\"Parch\"] + test[\"SibSp\"] + 1\n",
    "test.drop(inplace=True, axis = 0, columns = ['Fare Per Person', 'SibSp'])\n",
    "test = test.replace({True: 1, False: 0})\n",
    "test['Pclass'] = test['Pclass'].replace({3: 1, 1:3})\n",
    "cols = [\"Sex\", \"Embarked\"]\n",
    "encoded_data_test = pd.get_dummies(data = test, columns = cols)\n",
    "X_test = encoded_data_test\n",
    "y_test = model.predict(X_test)"
   ]
  }
 ],
 "metadata": {
  "kernelspec": {
   "display_name": "Python 3 (ipykernel)",
   "language": "python",
   "name": "python3"
  },
  "language_info": {
   "codemirror_mode": {
    "name": "ipython",
    "version": 3
   },
   "file_extension": ".py",
   "mimetype": "text/x-python",
   "name": "python",
   "nbconvert_exporter": "python",
   "pygments_lexer": "ipython3",
   "version": "3.12.5"
  }
 },
 "nbformat": 4,
 "nbformat_minor": 5
}
